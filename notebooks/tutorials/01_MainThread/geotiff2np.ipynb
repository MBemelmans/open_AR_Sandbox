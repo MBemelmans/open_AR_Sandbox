{
 "cells": [
  {
   "cell_type": "code",
   "execution_count": 11,
   "metadata": {},
   "outputs": [],
   "source": [
    "# from geotif to np array\n",
    "\n",
    "import numpy as np\n",
    "import geopandas as gpd\n",
    "import rasterio as rio\n",
    "from osgeo import gdal\n",
    "import matplotlib.pyplot as plt\n"
   ]
  },
  {
   "cell_type": "code",
   "execution_count": 12,
   "metadata": {},
   "outputs": [],
   "source": [
    "Elev_file = '/Users/tz20896/Documents/PhD/AR_SANDBOX/laharz_data/test1/sandbox_elev.tif'\n",
    "Stream_file = '/Users/tz20896/Documents/PhD/AR_SANDBOX/laharz_data/test1/streams.tif'\n",
    "EC_line_file = '/Users/tz20896/Documents/PhD/AR_SANDBOX/laharz_data/test1/ec_line.tif'\n",
    "lahar_total_file = '/Users/tz20896/Documents/PhD/AR_SANDBOX/laharz_data/test1/lahars/total.tif'"
   ]
  },
  {
   "cell_type": "code",
   "execution_count": 13,
   "metadata": {},
   "outputs": [],
   "source": [
    "with rio.open(Elev_file) as src:\n",
    "    elev_data = src.read(1)\n",
    "\n",
    "\n",
    "with rio.open(Stream_file) as src:\n",
    "    stream_data = src.read(1)\n",
    "\n",
    "\n",
    "with rio.open(EC_line_file) as src:\n",
    "    EC_line_data = src.read(1)\n",
    "\n",
    "with rio.open(lahar_total_file) as src:\n",
    "    lahar_data = src.read(1)\n",
    "    lahar_alpha = np.zeros_like(lahar_data)\n",
    "    lahar_alpha[lahar_data>0] = 1\n",
    "\n",
    "\n"
   ]
  },
  {
   "cell_type": "code",
   "execution_count": 14,
   "metadata": {},
   "outputs": [
    {
     "data": {
      "text/plain": [
       "<matplotlib.image.AxesImage at 0x1440f7e60>"
      ]
     },
     "execution_count": 14,
     "metadata": {},
     "output_type": "execute_result"
    }
   ],
   "source": [
    "%matplotlib osx\n",
    "fig, ax = plt.subplots(1,1)\n",
    "\n",
    "\n",
    "ax.imshow(elev_data,cmap='viridis')\n",
    "\n",
    "ax.imshow(stream_data,cmap='Greys',alpha=stream_data,zorder=100,interpolation='nearest')\n",
    "# ax.imshow(stream_data,cmap='Greens')\n",
    "\n",
    "ax.imshow(EC_line_data,cmap='Greens',alpha = EC_line_data,interpolation='nearest')\n",
    "\n",
    "# ax.imshow(lahar_data,cmap='Reds',alpha = lahar_alpha,interpolation='nearest')\n",
    "ax.imshow(lahar_data,cmap='Reds',interpolation='nearest')"
   ]
  },
  {
   "cell_type": "code",
   "execution_count": 15,
   "metadata": {},
   "outputs": [],
   "source": [
    "# save data to .npy\n",
    "\n",
    "elev_save_file = '/Users/tz20896/Documents/PhD/AR_SANDBOX/laharz_data/sandbox_elev_buff.npy'\n",
    "stream_save_file = '/Users/tz20896/Documents/PhD/AR_SANDBOX/laharz_data/sb_stream.npy'\n",
    "EC_line_save_file = '/Users/tz20896/Documents/PhD/AR_SANDBOX/laharz_data/sb_EC_line.npy'\n",
    "lahar_tot_save_file = '/Users/tz20896/Documents/PhD/AR_SANDBOX/laharz_data/sb_lahar_tot.npy'\n",
    "\n",
    "\n",
    "np.save(elev_save_file,elev_data),\n",
    "np.save(stream_save_file,stream_data,)\n",
    "np.save(EC_line_save_file,EC_line_data,)\n",
    "np.save(lahar_tot_save_file,lahar_data,)"
   ]
  }
 ],
 "metadata": {
  "kernelspec": {
   "display_name": "laharz-env",
   "language": "python",
   "name": "python3"
  },
  "language_info": {
   "codemirror_mode": {
    "name": "ipython",
    "version": 3
   },
   "file_extension": ".py",
   "mimetype": "text/x-python",
   "name": "python",
   "nbconvert_exporter": "python",
   "pygments_lexer": "ipython3",
   "version": "3.12.4"
  }
 },
 "nbformat": 4,
 "nbformat_minor": 2
}
